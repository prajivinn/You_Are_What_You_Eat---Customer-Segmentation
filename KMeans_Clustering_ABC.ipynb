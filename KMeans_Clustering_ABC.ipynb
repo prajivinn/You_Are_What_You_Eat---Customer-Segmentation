{
 "cells": [
  {
   "cell_type": "markdown",
   "id": "24226819",
   "metadata": {},
   "source": [
    "# Project Overview\n",
    "\n",
    "The Senior Management team from our client, a supermarket chain, are disagreeing about how customers are shopping, and how lifestyle choices may affect which food areas customers are shopping into, or more interestingly, not shopping into.\n",
    "\n",
    "They have asked us to use data, and Machine Learning to help segment up their customers based upon their engagement with each of the major food categories - aiding business understanding of the customer base, and to enhance the relevancy of targeted messaging & customer communications."
   ]
  },
  {
   "cell_type": "code",
   "execution_count": 29,
   "id": "8b06c96f",
   "metadata": {},
   "outputs": [],
   "source": [
    "# KMeans Clustering is a model that partitions data points into distinct groups or clusters\n",
    "# based on their similarity with each other\n",
    "\n",
    "# The number of distinct groups is determined by k\n",
    "# we can determine k with the help of elbow method ( within sum of squares)\n",
    "\n",
    "# the goal of clustering is to find patterns or relationships within the data\n",
    "\n",
    "# Import packages\n",
    "from sklearn.cluster import KMeans\n",
    "from sklearn.utils import shuffle\n",
    "from sklearn.preprocessing import OneHotEncoder, MinMaxScaler\n",
    "from sklearn.model_selection import train_test_split\n",
    "import pandas as pd\n",
    "import numpy as np\n",
    "import matplotlib.pyplot as plt"
   ]
  },
  {
   "cell_type": "code",
   "execution_count": 30,
   "id": "ab8007c2",
   "metadata": {},
   "outputs": [],
   "source": [
    "# Create the data\n",
    "transactions = pd.read_excel(r'/Users/praju/Desktop/DSI/Untitled Folder/K_Means/grocery_database.xlsx',sheet_name='transactions')\n",
    "product_areas = pd.read_excel(r'/Users/praju/Desktop/DSI/Untitled Folder/K_Means/grocery_database.xlsx',sheet_name='product_areas')\n"
   ]
  },
  {
   "cell_type": "code",
   "execution_count": 31,
   "id": "02a8c28d",
   "metadata": {},
   "outputs": [],
   "source": [
    "# Merge the data\n",
    "\n",
    "df = pd.merge(transactions,product_areas,how='inner',on='product_area_id')"
   ]
  },
  {
   "cell_type": "code",
   "execution_count": 32,
   "id": "99cbdff1",
   "metadata": {},
   "outputs": [
    {
     "data": {
      "text/html": [
       "<div>\n",
       "<style scoped>\n",
       "    .dataframe tbody tr th:only-of-type {\n",
       "        vertical-align: middle;\n",
       "    }\n",
       "\n",
       "    .dataframe tbody tr th {\n",
       "        vertical-align: top;\n",
       "    }\n",
       "\n",
       "    .dataframe thead th {\n",
       "        text-align: right;\n",
       "    }\n",
       "</style>\n",
       "<table border=\"1\" class=\"dataframe\">\n",
       "  <thead>\n",
       "    <tr style=\"text-align: right;\">\n",
       "      <th></th>\n",
       "      <th>customer_id</th>\n",
       "      <th>transaction_date</th>\n",
       "      <th>transaction_id</th>\n",
       "      <th>product_area_id</th>\n",
       "      <th>num_items</th>\n",
       "      <th>sales_cost</th>\n",
       "      <th>product_area_name</th>\n",
       "      <th>profit_margin</th>\n",
       "    </tr>\n",
       "  </thead>\n",
       "  <tbody>\n",
       "    <tr>\n",
       "      <th>0</th>\n",
       "      <td>1</td>\n",
       "      <td>2020-04-10</td>\n",
       "      <td>435657533999</td>\n",
       "      <td>3</td>\n",
       "      <td>7</td>\n",
       "      <td>19.16</td>\n",
       "      <td>Fruit</td>\n",
       "      <td>0.14</td>\n",
       "    </tr>\n",
       "    <tr>\n",
       "      <th>1</th>\n",
       "      <td>1</td>\n",
       "      <td>2020-07-20</td>\n",
       "      <td>436667313620</td>\n",
       "      <td>3</td>\n",
       "      <td>8</td>\n",
       "      <td>19.99</td>\n",
       "      <td>Fruit</td>\n",
       "      <td>0.14</td>\n",
       "    </tr>\n",
       "    <tr>\n",
       "      <th>2</th>\n",
       "      <td>1</td>\n",
       "      <td>2020-07-22</td>\n",
       "      <td>436686191960</td>\n",
       "      <td>3</td>\n",
       "      <td>20</td>\n",
       "      <td>61.69</td>\n",
       "      <td>Fruit</td>\n",
       "      <td>0.14</td>\n",
       "    </tr>\n",
       "    <tr>\n",
       "      <th>3</th>\n",
       "      <td>1</td>\n",
       "      <td>2020-08-12</td>\n",
       "      <td>436899350757</td>\n",
       "      <td>3</td>\n",
       "      <td>16</td>\n",
       "      <td>52.28</td>\n",
       "      <td>Fruit</td>\n",
       "      <td>0.14</td>\n",
       "    </tr>\n",
       "    <tr>\n",
       "      <th>4</th>\n",
       "      <td>1</td>\n",
       "      <td>2020-08-13</td>\n",
       "      <td>436908803653</td>\n",
       "      <td>3</td>\n",
       "      <td>14</td>\n",
       "      <td>34.58</td>\n",
       "      <td>Fruit</td>\n",
       "      <td>0.14</td>\n",
       "    </tr>\n",
       "  </tbody>\n",
       "</table>\n",
       "</div>"
      ],
      "text/plain": [
       "   customer_id transaction_date  transaction_id  product_area_id  num_items  \\\n",
       "0            1       2020-04-10    435657533999                3          7   \n",
       "1            1       2020-07-20    436667313620                3          8   \n",
       "2            1       2020-07-22    436686191960                3         20   \n",
       "3            1       2020-08-12    436899350757                3         16   \n",
       "4            1       2020-08-13    436908803653                3         14   \n",
       "\n",
       "   sales_cost product_area_name  profit_margin  \n",
       "0       19.16             Fruit           0.14  \n",
       "1       19.99             Fruit           0.14  \n",
       "2       61.69             Fruit           0.14  \n",
       "3       52.28             Fruit           0.14  \n",
       "4       34.58             Fruit           0.14  "
      ]
     },
     "execution_count": 32,
     "metadata": {},
     "output_type": "execute_result"
    }
   ],
   "source": [
    "df.head()"
   ]
  },
  {
   "cell_type": "code",
   "execution_count": 33,
   "id": "5bcde339",
   "metadata": {},
   "outputs": [
    {
     "name": "stdout",
     "output_type": "stream",
     "text": [
      "<class 'pandas.core.frame.DataFrame'>\n",
      "Int64Index: 38506 entries, 0 to 38505\n",
      "Data columns (total 8 columns):\n",
      " #   Column             Non-Null Count  Dtype         \n",
      "---  ------             --------------  -----         \n",
      " 0   customer_id        38506 non-null  int64         \n",
      " 1   transaction_date   38506 non-null  datetime64[ns]\n",
      " 2   transaction_id     38506 non-null  int64         \n",
      " 3   product_area_id    38506 non-null  int64         \n",
      " 4   num_items          38506 non-null  int64         \n",
      " 5   sales_cost         38506 non-null  float64       \n",
      " 6   product_area_name  38506 non-null  object        \n",
      " 7   profit_margin      38506 non-null  float64       \n",
      "dtypes: datetime64[ns](1), float64(2), int64(4), object(1)\n",
      "memory usage: 2.6+ MB\n"
     ]
    }
   ],
   "source": [
    "df.info()"
   ]
  },
  {
   "cell_type": "code",
   "execution_count": 34,
   "id": "caf9950f",
   "metadata": {},
   "outputs": [],
   "source": [
    "df.drop(df[df['product_area_name']== \"Non-Food\"].index,inplace=True)"
   ]
  },
  {
   "cell_type": "code",
   "execution_count": 35,
   "id": "5e15d2df",
   "metadata": {},
   "outputs": [
    {
     "name": "stdout",
     "output_type": "stream",
     "text": [
      "<class 'pandas.core.frame.DataFrame'>\n",
      "Int64Index: 30722 entries, 0 to 38505\n",
      "Data columns (total 8 columns):\n",
      " #   Column             Non-Null Count  Dtype         \n",
      "---  ------             --------------  -----         \n",
      " 0   customer_id        30722 non-null  int64         \n",
      " 1   transaction_date   30722 non-null  datetime64[ns]\n",
      " 2   transaction_id     30722 non-null  int64         \n",
      " 3   product_area_id    30722 non-null  int64         \n",
      " 4   num_items          30722 non-null  int64         \n",
      " 5   sales_cost         30722 non-null  float64       \n",
      " 6   product_area_name  30722 non-null  object        \n",
      " 7   profit_margin      30722 non-null  float64       \n",
      "dtypes: datetime64[ns](1), float64(2), int64(4), object(1)\n",
      "memory usage: 2.1+ MB\n"
     ]
    }
   ],
   "source": [
    "df.info()"
   ]
  },
  {
   "cell_type": "code",
   "execution_count": 36,
   "id": "c9fec06f",
   "metadata": {},
   "outputs": [],
   "source": [
    "trans_summary = df.groupby([\"customer_id\",\"product_area_name\"])['sales_cost'].sum().reset_index()"
   ]
  },
  {
   "cell_type": "code",
   "execution_count": 37,
   "id": "8611e435",
   "metadata": {},
   "outputs": [
    {
     "data": {
      "text/html": [
       "<div>\n",
       "<style scoped>\n",
       "    .dataframe tbody tr th:only-of-type {\n",
       "        vertical-align: middle;\n",
       "    }\n",
       "\n",
       "    .dataframe tbody tr th {\n",
       "        vertical-align: top;\n",
       "    }\n",
       "\n",
       "    .dataframe thead th {\n",
       "        text-align: right;\n",
       "    }\n",
       "</style>\n",
       "<table border=\"1\" class=\"dataframe\">\n",
       "  <thead>\n",
       "    <tr style=\"text-align: right;\">\n",
       "      <th></th>\n",
       "      <th>customer_id</th>\n",
       "      <th>product_area_name</th>\n",
       "      <th>sales_cost</th>\n",
       "    </tr>\n",
       "  </thead>\n",
       "  <tbody>\n",
       "    <tr>\n",
       "      <th>0</th>\n",
       "      <td>1</td>\n",
       "      <td>Dairy</td>\n",
       "      <td>367.74</td>\n",
       "    </tr>\n",
       "    <tr>\n",
       "      <th>1</th>\n",
       "      <td>1</td>\n",
       "      <td>Fruit</td>\n",
       "      <td>276.00</td>\n",
       "    </tr>\n",
       "    <tr>\n",
       "      <th>2</th>\n",
       "      <td>1</td>\n",
       "      <td>Meat</td>\n",
       "      <td>543.38</td>\n",
       "    </tr>\n",
       "    <tr>\n",
       "      <th>3</th>\n",
       "      <td>1</td>\n",
       "      <td>Vegetables</td>\n",
       "      <td>167.12</td>\n",
       "    </tr>\n",
       "    <tr>\n",
       "      <th>4</th>\n",
       "      <td>2</td>\n",
       "      <td>Dairy</td>\n",
       "      <td>150.63</td>\n",
       "    </tr>\n",
       "    <tr>\n",
       "      <th>...</th>\n",
       "      <td>...</td>\n",
       "      <td>...</td>\n",
       "      <td>...</td>\n",
       "    </tr>\n",
       "    <tr>\n",
       "      <th>3151</th>\n",
       "      <td>869</td>\n",
       "      <td>Vegetables</td>\n",
       "      <td>168.85</td>\n",
       "    </tr>\n",
       "    <tr>\n",
       "      <th>3152</th>\n",
       "      <td>870</td>\n",
       "      <td>Dairy</td>\n",
       "      <td>247.97</td>\n",
       "    </tr>\n",
       "    <tr>\n",
       "      <th>3153</th>\n",
       "      <td>870</td>\n",
       "      <td>Fruit</td>\n",
       "      <td>322.90</td>\n",
       "    </tr>\n",
       "    <tr>\n",
       "      <th>3154</th>\n",
       "      <td>870</td>\n",
       "      <td>Meat</td>\n",
       "      <td>284.26</td>\n",
       "    </tr>\n",
       "    <tr>\n",
       "      <th>3155</th>\n",
       "      <td>870</td>\n",
       "      <td>Vegetables</td>\n",
       "      <td>203.80</td>\n",
       "    </tr>\n",
       "  </tbody>\n",
       "</table>\n",
       "<p>3156 rows × 3 columns</p>\n",
       "</div>"
      ],
      "text/plain": [
       "      customer_id product_area_name  sales_cost\n",
       "0               1             Dairy      367.74\n",
       "1               1             Fruit      276.00\n",
       "2               1              Meat      543.38\n",
       "3               1        Vegetables      167.12\n",
       "4               2             Dairy      150.63\n",
       "...           ...               ...         ...\n",
       "3151          869        Vegetables      168.85\n",
       "3152          870             Dairy      247.97\n",
       "3153          870             Fruit      322.90\n",
       "3154          870              Meat      284.26\n",
       "3155          870        Vegetables      203.80\n",
       "\n",
       "[3156 rows x 3 columns]"
      ]
     },
     "execution_count": 37,
     "metadata": {},
     "output_type": "execute_result"
    }
   ],
   "source": [
    "trans_summary"
   ]
  },
  {
   "cell_type": "code",
   "execution_count": 38,
   "id": "cbd89b3f",
   "metadata": {},
   "outputs": [],
   "source": [
    "# pivot the data to place product areas as columns\n",
    "trans_summary_pivot = df.pivot_table(index=\"customer_id\",\n",
    "                                     columns=\"product_area_name\",\n",
    "                                     values='sales_cost',aggfunc=\"sum\",\n",
    "                                    fill_value=0,\n",
    "                                    margins=True,\n",
    "                                    margins_name=\"Total\").rename_axis(None,axis=1)\n",
    "# fill_value = 0, replace missing values with zero"
   ]
  },
  {
   "cell_type": "code",
   "execution_count": 39,
   "id": "9cd35726",
   "metadata": {},
   "outputs": [
    {
     "data": {
      "text/html": [
       "<div>\n",
       "<style scoped>\n",
       "    .dataframe tbody tr th:only-of-type {\n",
       "        vertical-align: middle;\n",
       "    }\n",
       "\n",
       "    .dataframe tbody tr th {\n",
       "        vertical-align: top;\n",
       "    }\n",
       "\n",
       "    .dataframe thead th {\n",
       "        text-align: right;\n",
       "    }\n",
       "</style>\n",
       "<table border=\"1\" class=\"dataframe\">\n",
       "  <thead>\n",
       "    <tr style=\"text-align: right;\">\n",
       "      <th></th>\n",
       "      <th>Dairy</th>\n",
       "      <th>Fruit</th>\n",
       "      <th>Meat</th>\n",
       "      <th>Vegetables</th>\n",
       "      <th>Total</th>\n",
       "    </tr>\n",
       "    <tr>\n",
       "      <th>customer_id</th>\n",
       "      <th></th>\n",
       "      <th></th>\n",
       "      <th></th>\n",
       "      <th></th>\n",
       "      <th></th>\n",
       "    </tr>\n",
       "  </thead>\n",
       "  <tbody>\n",
       "    <tr>\n",
       "      <th>1</th>\n",
       "      <td>367.74</td>\n",
       "      <td>276.00</td>\n",
       "      <td>543.38</td>\n",
       "      <td>167.12</td>\n",
       "      <td>1354.24</td>\n",
       "    </tr>\n",
       "    <tr>\n",
       "      <th>2</th>\n",
       "      <td>150.63</td>\n",
       "      <td>120.93</td>\n",
       "      <td>241.21</td>\n",
       "      <td>99.05</td>\n",
       "      <td>611.82</td>\n",
       "    </tr>\n",
       "    <tr>\n",
       "      <th>3</th>\n",
       "      <td>46.20</td>\n",
       "      <td>75.39</td>\n",
       "      <td>171.13</td>\n",
       "      <td>31.50</td>\n",
       "      <td>324.22</td>\n",
       "    </tr>\n",
       "    <tr>\n",
       "      <th>4</th>\n",
       "      <td>341.91</td>\n",
       "      <td>245.36</td>\n",
       "      <td>272.79</td>\n",
       "      <td>142.35</td>\n",
       "      <td>1002.41</td>\n",
       "    </tr>\n",
       "    <tr>\n",
       "      <th>5</th>\n",
       "      <td>694.71</td>\n",
       "      <td>815.32</td>\n",
       "      <td>1405.19</td>\n",
       "      <td>350.10</td>\n",
       "      <td>3265.32</td>\n",
       "    </tr>\n",
       "  </tbody>\n",
       "</table>\n",
       "</div>"
      ],
      "text/plain": [
       "              Dairy   Fruit     Meat  Vegetables    Total\n",
       "customer_id                                              \n",
       "1            367.74  276.00   543.38      167.12  1354.24\n",
       "2            150.63  120.93   241.21       99.05   611.82\n",
       "3             46.20   75.39   171.13       31.50   324.22\n",
       "4            341.91  245.36   272.79      142.35  1002.41\n",
       "5            694.71  815.32  1405.19      350.10  3265.32"
      ]
     },
     "execution_count": 39,
     "metadata": {},
     "output_type": "execute_result"
    }
   ],
   "source": [
    "trans_summary_pivot.head()"
   ]
  },
  {
   "cell_type": "code",
   "execution_count": 40,
   "id": "bcd97d38",
   "metadata": {},
   "outputs": [
    {
     "data": {
      "text/html": [
       "<div>\n",
       "<style scoped>\n",
       "    .dataframe tbody tr th:only-of-type {\n",
       "        vertical-align: middle;\n",
       "    }\n",
       "\n",
       "    .dataframe tbody tr th {\n",
       "        vertical-align: top;\n",
       "    }\n",
       "\n",
       "    .dataframe thead th {\n",
       "        text-align: right;\n",
       "    }\n",
       "</style>\n",
       "<table border=\"1\" class=\"dataframe\">\n",
       "  <thead>\n",
       "    <tr style=\"text-align: right;\">\n",
       "      <th></th>\n",
       "      <th>Dairy</th>\n",
       "      <th>Fruit</th>\n",
       "      <th>Meat</th>\n",
       "      <th>Vegetables</th>\n",
       "      <th>Total</th>\n",
       "    </tr>\n",
       "    <tr>\n",
       "      <th>customer_id</th>\n",
       "      <th></th>\n",
       "      <th></th>\n",
       "      <th></th>\n",
       "      <th></th>\n",
       "      <th></th>\n",
       "    </tr>\n",
       "  </thead>\n",
       "  <tbody>\n",
       "    <tr>\n",
       "      <th>1</th>\n",
       "      <td>0.271547</td>\n",
       "      <td>0.203804</td>\n",
       "      <td>0.401244</td>\n",
       "      <td>0.123405</td>\n",
       "      <td>1.0</td>\n",
       "    </tr>\n",
       "    <tr>\n",
       "      <th>2</th>\n",
       "      <td>0.246200</td>\n",
       "      <td>0.197656</td>\n",
       "      <td>0.394250</td>\n",
       "      <td>0.161894</td>\n",
       "      <td>1.0</td>\n",
       "    </tr>\n",
       "    <tr>\n",
       "      <th>3</th>\n",
       "      <td>0.142496</td>\n",
       "      <td>0.232527</td>\n",
       "      <td>0.527821</td>\n",
       "      <td>0.097156</td>\n",
       "      <td>1.0</td>\n",
       "    </tr>\n",
       "    <tr>\n",
       "      <th>4</th>\n",
       "      <td>0.341088</td>\n",
       "      <td>0.244770</td>\n",
       "      <td>0.272134</td>\n",
       "      <td>0.142008</td>\n",
       "      <td>1.0</td>\n",
       "    </tr>\n",
       "    <tr>\n",
       "      <th>5</th>\n",
       "      <td>0.212754</td>\n",
       "      <td>0.249691</td>\n",
       "      <td>0.430338</td>\n",
       "      <td>0.107218</td>\n",
       "      <td>1.0</td>\n",
       "    </tr>\n",
       "    <tr>\n",
       "      <th>...</th>\n",
       "      <td>...</td>\n",
       "      <td>...</td>\n",
       "      <td>...</td>\n",
       "      <td>...</td>\n",
       "      <td>...</td>\n",
       "    </tr>\n",
       "    <tr>\n",
       "      <th>867</th>\n",
       "      <td>0.225460</td>\n",
       "      <td>0.306882</td>\n",
       "      <td>0.313411</td>\n",
       "      <td>0.154248</td>\n",
       "      <td>1.0</td>\n",
       "    </tr>\n",
       "    <tr>\n",
       "      <th>868</th>\n",
       "      <td>0.201964</td>\n",
       "      <td>0.321304</td>\n",
       "      <td>0.307311</td>\n",
       "      <td>0.169421</td>\n",
       "      <td>1.0</td>\n",
       "    </tr>\n",
       "    <tr>\n",
       "      <th>869</th>\n",
       "      <td>0.208208</td>\n",
       "      <td>0.210219</td>\n",
       "      <td>0.303177</td>\n",
       "      <td>0.278396</td>\n",
       "      <td>1.0</td>\n",
       "    </tr>\n",
       "    <tr>\n",
       "      <th>870</th>\n",
       "      <td>0.234170</td>\n",
       "      <td>0.304930</td>\n",
       "      <td>0.268441</td>\n",
       "      <td>0.192458</td>\n",
       "      <td>1.0</td>\n",
       "    </tr>\n",
       "    <tr>\n",
       "      <th>Total</th>\n",
       "      <td>0.219030</td>\n",
       "      <td>0.314022</td>\n",
       "      <td>0.300141</td>\n",
       "      <td>0.166807</td>\n",
       "      <td>1.0</td>\n",
       "    </tr>\n",
       "  </tbody>\n",
       "</table>\n",
       "<p>871 rows × 5 columns</p>\n",
       "</div>"
      ],
      "text/plain": [
       "                Dairy     Fruit      Meat  Vegetables  Total\n",
       "customer_id                                                 \n",
       "1            0.271547  0.203804  0.401244    0.123405    1.0\n",
       "2            0.246200  0.197656  0.394250    0.161894    1.0\n",
       "3            0.142496  0.232527  0.527821    0.097156    1.0\n",
       "4            0.341088  0.244770  0.272134    0.142008    1.0\n",
       "5            0.212754  0.249691  0.430338    0.107218    1.0\n",
       "...               ...       ...       ...         ...    ...\n",
       "867          0.225460  0.306882  0.313411    0.154248    1.0\n",
       "868          0.201964  0.321304  0.307311    0.169421    1.0\n",
       "869          0.208208  0.210219  0.303177    0.278396    1.0\n",
       "870          0.234170  0.304930  0.268441    0.192458    1.0\n",
       "Total        0.219030  0.314022  0.300141    0.166807    1.0\n",
       "\n",
       "[871 rows x 5 columns]"
      ]
     },
     "execution_count": 40,
     "metadata": {},
     "output_type": "execute_result"
    }
   ],
   "source": [
    "# Turn sales into % of Sales\n",
    "\n",
    "trans_summary_pivot = trans_summary_pivot.div(trans_summary_pivot[\"Total\"],axis=0)\n",
    "trans_summary_pivot\n",
    "\n",
    "# represents percentage of sales allocated by each customer to different products"
   ]
  },
  {
   "cell_type": "code",
   "execution_count": 41,
   "id": "de106199",
   "metadata": {},
   "outputs": [],
   "source": [
    "# drop the \"Total\" as we no need for Clustering\n",
    "\n",
    "data_for_clustering=trans_summary_pivot.drop('Total',axis=1)"
   ]
  },
  {
   "cell_type": "code",
   "execution_count": 42,
   "id": "63d0097e",
   "metadata": {},
   "outputs": [
    {
     "name": "stdout",
     "output_type": "stream",
     "text": [
      "<class 'pandas.core.frame.DataFrame'>\n",
      "Index: 871 entries, 1 to Total\n",
      "Data columns (total 4 columns):\n",
      " #   Column      Non-Null Count  Dtype  \n",
      "---  ------      --------------  -----  \n",
      " 0   Dairy       871 non-null    float64\n",
      " 1   Fruit       871 non-null    float64\n",
      " 2   Meat        871 non-null    float64\n",
      " 3   Vegetables  871 non-null    float64\n",
      "dtypes: float64(4)\n",
      "memory usage: 34.0+ KB\n"
     ]
    }
   ],
   "source": [
    "data_for_clustering.info()"
   ]
  },
  {
   "cell_type": "code",
   "execution_count": 43,
   "id": "c9c76de9",
   "metadata": {},
   "outputs": [
    {
     "data": {
      "text/html": [
       "<div>\n",
       "<style scoped>\n",
       "    .dataframe tbody tr th:only-of-type {\n",
       "        vertical-align: middle;\n",
       "    }\n",
       "\n",
       "    .dataframe tbody tr th {\n",
       "        vertical-align: top;\n",
       "    }\n",
       "\n",
       "    .dataframe thead th {\n",
       "        text-align: right;\n",
       "    }\n",
       "</style>\n",
       "<table border=\"1\" class=\"dataframe\">\n",
       "  <thead>\n",
       "    <tr style=\"text-align: right;\">\n",
       "      <th></th>\n",
       "      <th>Dairy</th>\n",
       "      <th>Fruit</th>\n",
       "      <th>Meat</th>\n",
       "      <th>Vegetables</th>\n",
       "    </tr>\n",
       "    <tr>\n",
       "      <th>customer_id</th>\n",
       "      <th></th>\n",
       "      <th></th>\n",
       "      <th></th>\n",
       "      <th></th>\n",
       "    </tr>\n",
       "  </thead>\n",
       "  <tbody>\n",
       "    <tr>\n",
       "      <th>1</th>\n",
       "      <td>0.271547</td>\n",
       "      <td>0.203804</td>\n",
       "      <td>0.401244</td>\n",
       "      <td>0.123405</td>\n",
       "    </tr>\n",
       "    <tr>\n",
       "      <th>2</th>\n",
       "      <td>0.246200</td>\n",
       "      <td>0.197656</td>\n",
       "      <td>0.394250</td>\n",
       "      <td>0.161894</td>\n",
       "    </tr>\n",
       "    <tr>\n",
       "      <th>3</th>\n",
       "      <td>0.142496</td>\n",
       "      <td>0.232527</td>\n",
       "      <td>0.527821</td>\n",
       "      <td>0.097156</td>\n",
       "    </tr>\n",
       "    <tr>\n",
       "      <th>4</th>\n",
       "      <td>0.341088</td>\n",
       "      <td>0.244770</td>\n",
       "      <td>0.272134</td>\n",
       "      <td>0.142008</td>\n",
       "    </tr>\n",
       "    <tr>\n",
       "      <th>5</th>\n",
       "      <td>0.212754</td>\n",
       "      <td>0.249691</td>\n",
       "      <td>0.430338</td>\n",
       "      <td>0.107218</td>\n",
       "    </tr>\n",
       "  </tbody>\n",
       "</table>\n",
       "</div>"
      ],
      "text/plain": [
       "                Dairy     Fruit      Meat  Vegetables\n",
       "customer_id                                          \n",
       "1            0.271547  0.203804  0.401244    0.123405\n",
       "2            0.246200  0.197656  0.394250    0.161894\n",
       "3            0.142496  0.232527  0.527821    0.097156\n",
       "4            0.341088  0.244770  0.272134    0.142008\n",
       "5            0.212754  0.249691  0.430338    0.107218"
      ]
     },
     "execution_count": 43,
     "metadata": {},
     "output_type": "execute_result"
    }
   ],
   "source": [
    "data_for_clustering.head()"
   ]
  },
  {
   "cell_type": "code",
   "execution_count": 24,
   "id": "af0ea564",
   "metadata": {},
   "outputs": [
    {
     "data": {
      "text/plain": [
       "Dairy         0\n",
       "Fruit         0\n",
       "Meat          0\n",
       "Vegetables    0\n",
       "dtype: int64"
      ]
     },
     "execution_count": 24,
     "metadata": {},
     "output_type": "execute_result"
    }
   ],
   "source": [
    "# check for missing values\n",
    "data_for_clustering.isnull().sum()"
   ]
  },
  {
   "cell_type": "code",
   "execution_count": 25,
   "id": "865188d0",
   "metadata": {},
   "outputs": [],
   "source": [
    "# normalise data\n",
    "# here pecentages are between 0 and 1, but however i still apply normalization(minmaxscaler)\n",
    "# my thoughts here are one product area might commonly make large portion of customer sales and this\n",
    "# may end up dominating the clusterings\n",
    "# if we normalize the values, even product area that makes smaller volumes will be spread proportionally between\n",
    "# 0 and 1\n",
    "\n",
    "\n",
    "scale_norm = MinMaxScaler()\n",
    "data_for_clustering_scaled=pd.DataFrame(scale_norm.fit_transform(data_for_clustering),columns=data_for_clustering.columns)"
   ]
  },
  {
   "cell_type": "code",
   "execution_count": 26,
   "id": "049ab5c7",
   "metadata": {},
   "outputs": [
    {
     "data": {
      "text/html": [
       "<div>\n",
       "<style scoped>\n",
       "    .dataframe tbody tr th:only-of-type {\n",
       "        vertical-align: middle;\n",
       "    }\n",
       "\n",
       "    .dataframe tbody tr th {\n",
       "        vertical-align: top;\n",
       "    }\n",
       "\n",
       "    .dataframe thead th {\n",
       "        text-align: right;\n",
       "    }\n",
       "</style>\n",
       "<table border=\"1\" class=\"dataframe\">\n",
       "  <thead>\n",
       "    <tr style=\"text-align: right;\">\n",
       "      <th></th>\n",
       "      <th>Dairy</th>\n",
       "      <th>Fruit</th>\n",
       "      <th>Meat</th>\n",
       "      <th>Vegetables</th>\n",
       "    </tr>\n",
       "  </thead>\n",
       "  <tbody>\n",
       "    <tr>\n",
       "      <th>0</th>\n",
       "      <td>0.309044</td>\n",
       "      <td>0.250873</td>\n",
       "      <td>0.432358</td>\n",
       "      <td>0.164665</td>\n",
       "    </tr>\n",
       "    <tr>\n",
       "      <th>1</th>\n",
       "      <td>0.280196</td>\n",
       "      <td>0.243305</td>\n",
       "      <td>0.424823</td>\n",
       "      <td>0.216022</td>\n",
       "    </tr>\n",
       "    <tr>\n",
       "      <th>2</th>\n",
       "      <td>0.162172</td>\n",
       "      <td>0.286229</td>\n",
       "      <td>0.568751</td>\n",
       "      <td>0.129640</td>\n",
       "    </tr>\n",
       "    <tr>\n",
       "      <th>3</th>\n",
       "      <td>0.388187</td>\n",
       "      <td>0.301300</td>\n",
       "      <td>0.293237</td>\n",
       "      <td>0.189487</td>\n",
       "    </tr>\n",
       "    <tr>\n",
       "      <th>4</th>\n",
       "      <td>0.242132</td>\n",
       "      <td>0.307357</td>\n",
       "      <td>0.463709</td>\n",
       "      <td>0.143065</td>\n",
       "    </tr>\n",
       "    <tr>\n",
       "      <th>...</th>\n",
       "      <td>...</td>\n",
       "      <td>...</td>\n",
       "      <td>...</td>\n",
       "      <td>...</td>\n",
       "    </tr>\n",
       "    <tr>\n",
       "      <th>866</th>\n",
       "      <td>0.256592</td>\n",
       "      <td>0.377756</td>\n",
       "      <td>0.337714</td>\n",
       "      <td>0.205820</td>\n",
       "    </tr>\n",
       "    <tr>\n",
       "      <th>867</th>\n",
       "      <td>0.229852</td>\n",
       "      <td>0.395509</td>\n",
       "      <td>0.331142</td>\n",
       "      <td>0.226066</td>\n",
       "    </tr>\n",
       "    <tr>\n",
       "      <th>868</th>\n",
       "      <td>0.236958</td>\n",
       "      <td>0.258769</td>\n",
       "      <td>0.326687</td>\n",
       "      <td>0.371476</td>\n",
       "    </tr>\n",
       "    <tr>\n",
       "      <th>869</th>\n",
       "      <td>0.266506</td>\n",
       "      <td>0.375354</td>\n",
       "      <td>0.289257</td>\n",
       "      <td>0.256806</td>\n",
       "    </tr>\n",
       "    <tr>\n",
       "      <th>870</th>\n",
       "      <td>0.249274</td>\n",
       "      <td>0.386545</td>\n",
       "      <td>0.323416</td>\n",
       "      <td>0.222578</td>\n",
       "    </tr>\n",
       "  </tbody>\n",
       "</table>\n",
       "<p>871 rows × 4 columns</p>\n",
       "</div>"
      ],
      "text/plain": [
       "        Dairy     Fruit      Meat  Vegetables\n",
       "0    0.309044  0.250873  0.432358    0.164665\n",
       "1    0.280196  0.243305  0.424823    0.216022\n",
       "2    0.162172  0.286229  0.568751    0.129640\n",
       "3    0.388187  0.301300  0.293237    0.189487\n",
       "4    0.242132  0.307357  0.463709    0.143065\n",
       "..        ...       ...       ...         ...\n",
       "866  0.256592  0.377756  0.337714    0.205820\n",
       "867  0.229852  0.395509  0.331142    0.226066\n",
       "868  0.236958  0.258769  0.326687    0.371476\n",
       "869  0.266506  0.375354  0.289257    0.256806\n",
       "870  0.249274  0.386545  0.323416    0.222578\n",
       "\n",
       "[871 rows x 4 columns]"
      ]
     },
     "execution_count": 26,
     "metadata": {},
     "output_type": "execute_result"
    }
   ],
   "source": [
    "data_for_clustering_scaled"
   ]
  },
  {
   "cell_type": "markdown",
   "id": "bbbf3bc1",
   "metadata": {},
   "source": [
    "## Finding A Good Value For k"
   ]
  },
  {
   "cell_type": "code",
   "execution_count": 27,
   "id": "55b9b8f0",
   "metadata": {},
   "outputs": [
    {
     "name": "stderr",
     "output_type": "stream",
     "text": [
      "/Users/praju/anaconda3/lib/python3.10/site-packages/sklearn/cluster/_kmeans.py:870: FutureWarning: The default value of `n_init` will change from 10 to 'auto' in 1.4. Set the value of `n_init` explicitly to suppress the warning\n",
      "  warnings.warn(\n",
      "/Users/praju/anaconda3/lib/python3.10/site-packages/sklearn/cluster/_kmeans.py:870: FutureWarning: The default value of `n_init` will change from 10 to 'auto' in 1.4. Set the value of `n_init` explicitly to suppress the warning\n",
      "  warnings.warn(\n",
      "/Users/praju/anaconda3/lib/python3.10/site-packages/sklearn/cluster/_kmeans.py:870: FutureWarning: The default value of `n_init` will change from 10 to 'auto' in 1.4. Set the value of `n_init` explicitly to suppress the warning\n",
      "  warnings.warn(\n",
      "/Users/praju/anaconda3/lib/python3.10/site-packages/sklearn/cluster/_kmeans.py:870: FutureWarning: The default value of `n_init` will change from 10 to 'auto' in 1.4. Set the value of `n_init` explicitly to suppress the warning\n",
      "  warnings.warn(\n",
      "/Users/praju/anaconda3/lib/python3.10/site-packages/sklearn/cluster/_kmeans.py:870: FutureWarning: The default value of `n_init` will change from 10 to 'auto' in 1.4. Set the value of `n_init` explicitly to suppress the warning\n",
      "  warnings.warn(\n",
      "/Users/praju/anaconda3/lib/python3.10/site-packages/sklearn/cluster/_kmeans.py:870: FutureWarning: The default value of `n_init` will change from 10 to 'auto' in 1.4. Set the value of `n_init` explicitly to suppress the warning\n",
      "  warnings.warn(\n"
     ]
    },
    {
     "name": "stdout",
     "output_type": "stream",
     "text": [
      "[91.72882312884767, 43.92215800997556, 29.064286512254313, 23.33903474707163, 19.821624364799632, 17.999966191836013, 16.557054748043228, 15.13616920161499, 13.840501593608973]\n"
     ]
    },
    {
     "name": "stderr",
     "output_type": "stream",
     "text": [
      "/Users/praju/anaconda3/lib/python3.10/site-packages/sklearn/cluster/_kmeans.py:870: FutureWarning: The default value of `n_init` will change from 10 to 'auto' in 1.4. Set the value of `n_init` explicitly to suppress the warning\n",
      "  warnings.warn(\n",
      "/Users/praju/anaconda3/lib/python3.10/site-packages/sklearn/cluster/_kmeans.py:870: FutureWarning: The default value of `n_init` will change from 10 to 'auto' in 1.4. Set the value of `n_init` explicitly to suppress the warning\n",
      "  warnings.warn(\n",
      "/Users/praju/anaconda3/lib/python3.10/site-packages/sklearn/cluster/_kmeans.py:870: FutureWarning: The default value of `n_init` will change from 10 to 'auto' in 1.4. Set the value of `n_init` explicitly to suppress the warning\n",
      "  warnings.warn(\n"
     ]
    }
   ],
   "source": [
    "# Use WCSS to find a good value for K\n",
    "\n",
    "k_values = list(range(1,10))\n",
    "wcss = []\n",
    "\n",
    "for k in k_values:\n",
    "    kmeans = KMeans(n_clusters = k,random_state=42)\n",
    "    kmeans.fit(data_for_clustering_scaled)\n",
    "    wcss.append(kmeans.inertia_)\n",
    "\n",
    "print(wcss)"
   ]
  },
  {
   "cell_type": "code",
   "execution_count": 28,
   "id": "6db37945",
   "metadata": {},
   "outputs": [
    {
     "data": {
      "image/png": "[encoded data removed]",
      "text/plain": [
       "<Figure size 640x480 with 1 Axes>"
      ]
     },
     "metadata": {},
     "output_type": "display_data"
    }
   ],
   "source": [
    "plt.plot(k_values,wcss)\n",
    "plt.xlabel(\"K-Values\")\n",
    "plt.ylabel(\"wcss\")\n",
    "plt.title(\"Sum of squares by K\")\n",
    "plt.tight_layout()\n",
    "plt.show()"
   ]
  },
  {
   "cell_type": "markdown",
   "id": "74abc6cd",
   "metadata": {},
   "source": [
    "#### we just go with k=3\n",
    "\n",
    "Based upon the shape of the above plot - there does appear to be an elbow at k = 3. Prior to that we see a significant drop in the WCSS score, but following the decreases are much smaller, meaning this could be a point that suggests adding more clusters will provide little extra benefit in terms of separating our data. A small number of clusters can be beneficial when considering how easy it is for the business to focus on, and understand, each - so we will continue on, and fit our k-means clustering solution with k = 3."
   ]
  },
  {
   "cell_type": "markdown",
   "id": "9856ecc9",
   "metadata": {},
   "source": [
    "## Model Fitting"
   ]
  },
  {
   "cell_type": "code",
   "execution_count": 66,
   "id": "cce413ac",
   "metadata": {},
   "outputs": [
    {
     "data": {
      "text/plain": [
       "KMeans(n_clusters=3, random_state=42)"
      ]
     },
     "execution_count": 66,
     "metadata": {},
     "output_type": "execute_result"
    }
   ],
   "source": [
    "# Instantiate & fit the model\n",
    "\n",
    "kmeans = KMeans(n_clusters=3, random_state=42)\n",
    "kmeans.fit(data_for_clustering_scaled)"
   ]
  },
  {
   "cell_type": "markdown",
   "id": "2a041ce0",
   "metadata": {},
   "source": [
    "## Cluster Sizes\n",
    "In the below code we firstly assess the number of customers that fall into each cluster."
   ]
  },
  {
   "cell_type": "code",
   "execution_count": 67,
   "id": "574596fc",
   "metadata": {},
   "outputs": [
    {
     "name": "stdout",
     "output_type": "stream",
     "text": [
      "0    641\n",
      "2    127\n",
      "1    103\n",
      "Name: cluster, dtype: int64\n"
     ]
    }
   ],
   "source": [
    "data_for_clustering[\"cluster\"] = kmeans.labels_\n",
    "\n",
    "print(data_for_clustering[\"cluster\"].value_counts())\n"
   ]
  },
  {
   "cell_type": "markdown",
   "id": "94712ec0",
   "metadata": {},
   "source": [
    "Here below it looks like a we got a volume skewed towards 0 and cluster 1 & 2 being smaller and this is'nt right or \n",
    "wrong.\n",
    "\n",
    "This means there are some distinct types of customers in our base that show quite different behaviours and this is actually what we want the \"Clustering\" to show up\n",
    "\n",
    "To understand what these clusters do mean, we need to run a bit of profiling on them. This means we just need to look at the summary stats for each based on the variables we used to cluster them. This means we get a bit of view on why these algorithm considered them to be distinct \n",
    "\n",
    "So here i am going to do is for each cluster calculate mean percentage of sales for each of product area and just see what shows up"
   ]
  },
  {
   "cell_type": "code",
   "execution_count": 69,
   "id": "79e01596",
   "metadata": {},
   "outputs": [
    {
     "data": {
      "text/html": [
       "<div>\n",
       "<style scoped>\n",
       "    .dataframe tbody tr th:only-of-type {\n",
       "        vertical-align: middle;\n",
       "    }\n",
       "\n",
       "    .dataframe tbody tr th {\n",
       "        vertical-align: top;\n",
       "    }\n",
       "\n",
       "    .dataframe thead th {\n",
       "        text-align: right;\n",
       "    }\n",
       "</style>\n",
       "<table border=\"1\" class=\"dataframe\">\n",
       "  <thead>\n",
       "    <tr style=\"text-align: right;\">\n",
       "      <th></th>\n",
       "      <th>cluster</th>\n",
       "      <th>Dairy</th>\n",
       "      <th>Fruit</th>\n",
       "      <th>Meat</th>\n",
       "      <th>Vegetables</th>\n",
       "    </tr>\n",
       "  </thead>\n",
       "  <tbody>\n",
       "    <tr>\n",
       "      <th>0</th>\n",
       "      <td>0</td>\n",
       "      <td>0.220875</td>\n",
       "      <td>0.264605</td>\n",
       "      <td>0.376508</td>\n",
       "      <td>0.138011</td>\n",
       "    </tr>\n",
       "    <tr>\n",
       "      <th>1</th>\n",
       "      <td>1</td>\n",
       "      <td>0.002382</td>\n",
       "      <td>0.637796</td>\n",
       "      <td>0.003696</td>\n",
       "      <td>0.356126</td>\n",
       "    </tr>\n",
       "    <tr>\n",
       "      <th>2</th>\n",
       "      <td>2</td>\n",
       "      <td>0.363948</td>\n",
       "      <td>0.394152</td>\n",
       "      <td>0.029210</td>\n",
       "      <td>0.212690</td>\n",
       "    </tr>\n",
       "  </tbody>\n",
       "</table>\n",
       "</div>"
      ],
      "text/plain": [
       "   cluster     Dairy     Fruit      Meat  Vegetables\n",
       "0        0  0.220875  0.264605  0.376508    0.138011\n",
       "1        1  0.002382  0.637796  0.003696    0.356126\n",
       "2        2  0.363948  0.394152  0.029210    0.212690"
      ]
     },
     "execution_count": 69,
     "metadata": {},
     "output_type": "execute_result"
    }
   ],
   "source": [
    "cluster_summary = data_for_clustering.groupby(\"cluster\")[[\"Dairy\",\"Fruit\",\"Meat\",\"Vegetables\"]].mean().reset_index()\n",
    "cluster_summary"
   ]
  },
  {
   "cell_type": "markdown",
   "id": "ff542eb3",
   "metadata": {},
   "source": [
    "\n",
    "For Cluster 0 we see a reasonably significant portion of spend being allocated to each of the product areas. For Cluster 1 we see quite high proportions of spend being allocated to Fruit & Vegetables, but very little to the Dairy & Meat product areas. It could be hypothesised that these customers are following a vegan diet. Finally customers in Cluster 2 spend, on average, significant portions within Dairy, Fruit & Vegetables, but very little in the Meat product area - so similarly, we would make an early hypothesis that these customers are more along the lines of those following a vegetarian diet - very interesting!"
   ]
  },
  {
   "cell_type": "markdown",
   "id": "e351abae",
   "metadata": {},
   "source": [
    "-----\n",
    "\n",
    "Even those this is a simple solution, based upon high level product areas it will help leaders in the business, and category managers gain a clearer understanding of the customer base.\n",
    "\n",
    "Tracking these clusters over time would allow the client to more quickly react to dietary trends, and adjust their messaging and inventory accordingly.\n",
    "\n",
    "Based upon these clusters, the client will be able to target customers more accurately - promoting products & discounts to customers that are truly relevant to them - overall enabling a more customer focused communication strategy."
   ]
  }
 ],
 "metadata": {
  "kernelspec": {
   "display_name": "Python 3 (ipykernel)",
   "language": "python",
   "name": "python3"
  },
  "language_info": {
   "codemirror_mode": {
    "name": "ipython",
    "version": 3
   },
   "file_extension": ".py",
   "mimetype": "text/x-python",
   "name": "python",
   "nbconvert_exporter": "python",
   "pygments_lexer": "ipython3",
   "version": "3.10.9"
  }
 },
 "nbformat": 4,
 "nbformat_minor": 5
}
